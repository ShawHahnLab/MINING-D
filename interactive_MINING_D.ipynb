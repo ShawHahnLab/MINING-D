{
 "cells": [
  {
   "cell_type": "code",
   "execution_count": 1,
   "metadata": {},
   "outputs": [],
   "source": [
    "import MINING_D"
   ]
  },
  {
   "cell_type": "markdown",
   "metadata": {},
   "source": [
    "**Add input output files and parameters to use.**"
   ]
  },
  {
   "cell_type": "code",
   "execution_count": null,
   "metadata": {},
   "outputs": [],
   "source": [
    "input_cdr_file = '/Poppy/vbhardwaj/d_genes_project/Projects/PRJEB18631_sorted_mice_B_cells/' + \\\n",
    "            'Realigned/ERR1759678_divan/consensus_cdr3s.fasta'\n",
    "output_file = './test_output/test_op.fasta'"
   ]
  },
  {
   "cell_type": "markdown",
   "metadata": {},
   "source": [
    "**MINING-D parameters**"
   ]
  },
  {
   "cell_type": "code",
   "execution_count": 1,
   "metadata": {},
   "outputs": [],
   "source": [
    "k=10\n",
    "k_mers = 300\n",
    "n_cores = 50\n",
    "bidir_alpha = 0.5\n",
    "cliq_th = 2\n",
    "p_val_th = 4.5*10**(-36)"
   ]
  },
  {
   "cell_type": "markdown",
   "metadata": {},
   "source": [
    "**Create a CDR3_rep object**"
   ]
  },
  {
   "cell_type": "code",
   "execution_count": null,
   "metadata": {},
   "outputs": [],
   "source": [
    "cdr3s = CDR3_rep(input_cdr_file)"
   ]
  },
  {
   "cell_type": "markdown",
   "metadata": {},
   "source": [
    "**Compute multiple extensions of 'k_mers' most abundant k-mers**"
   ]
  },
  {
   "cell_type": "code",
   "execution_count": null,
   "metadata": {},
   "outputs": [],
   "source": [
    "extensions_dict = extensions_for_abundant_kmers(cdr3s, \n",
    "                                                num_k_mers_to_extend= k_mers, \n",
    "                                                n_cores=n_cores, \n",
    "                                                k_mer_len=k, \n",
    "                                                alpha= p_val_th)\n",
    "filtered_extensions = filter_unidirectional_extensions(extensions_dict, side_alpha=bidir_alpha)"
   ]
  },
  {
   "cell_type": "markdown",
   "metadata": {},
   "source": [
    "**Get initial candidate set**"
   ]
  },
  {
   "cell_type": "code",
   "execution_count": null,
   "metadata": {},
   "outputs": [],
   "source": [
    "candidate_seqs = {ext for kmer in filtered_extensions for ext in filtered_extensions[kmer]}\n",
    "\n",
    "# Create a D_gene_Candidates object \n",
    "cand = D_gene_Candidates()\n",
    "cand.add_sequences(candidate_seqs)"
   ]
  },
  {
   "cell_type": "markdown",
   "metadata": {},
   "source": [
    "**Add relative positions and keep only central candidates**"
   ]
  },
  {
   "cell_type": "code",
   "execution_count": null,
   "metadata": {},
   "outputs": [],
   "source": [
    "cand.add_RP_in_cdrs_frm(cdr3s)\n",
    "cand_central = cand.get_central_d_segments() "
   ]
  },
  {
   "cell_type": "markdown",
   "metadata": {},
   "source": [
    "**Filter candidates**"
   ]
  },
  {
   "cell_type": "code",
   "execution_count": null,
   "metadata": {},
   "outputs": [],
   "source": [
    "# Filtering using merging cliques etc. \n",
    "cand_central = cand_central.del_abund_rand_insrtns()\n",
    "cand_after_merging_cliques = cand_central.merge_cliques_in_db(a_cdr3_rep=cdr3s, k_mer_len=k, alpha= p_val_th,\n",
    "                                                              graph_threshold=cliq_th)\n",
    "cand_after_merging_cliques = cand_after_merging_cliques.\\\n",
    "                            del_abund_rand_insrtns(symbol_to_del = 'G',g_threshold=2).\\\n",
    "                            del_abund_rand_insrtns(symbol_to_del = 'C', g_threshold=2)\n",
    "\n",
    "# Additional filtering for special cases (rare)\n",
    "final_candidates = cand_after_merging_cliques.merge_smlr_seqs()\n",
    "final_candidates = final_candidates.filter_cand_with_motif(motif = 'TACTACTAC')"
   ]
  },
  {
   "cell_type": "markdown",
   "metadata": {},
   "source": [
    "**Write to Fasta**"
   ]
  },
  {
   "cell_type": "code",
   "execution_count": 5,
   "metadata": {},
   "outputs": [],
   "source": [
    "final_candidates.write_to_fasta(output_file)"
   ]
  },
  {
   "cell_type": "code",
   "execution_count": null,
   "metadata": {},
   "outputs": [],
   "source": []
  }
 ],
 "metadata": {
  "kernelspec": {
   "display_name": "Python 3",
   "language": "python",
   "name": "python3"
  },
  "language_info": {
   "codemirror_mode": {
    "name": "ipython",
    "version": 3
   },
   "file_extension": ".py",
   "mimetype": "text/x-python",
   "name": "python",
   "nbconvert_exporter": "python",
   "pygments_lexer": "ipython3",
   "version": "3.6.5"
  }
 },
 "nbformat": 4,
 "nbformat_minor": 2
}
